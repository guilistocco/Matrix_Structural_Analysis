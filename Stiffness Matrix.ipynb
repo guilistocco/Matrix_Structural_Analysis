{
  "nbformat": 4,
  "nbformat_minor": 0,
  "metadata": {
    "colab": {
      "name": "exercicios R2.ipynb",
      "provenance": []
    },
    "kernelspec": {
      "name": "python3",
      "display_name": "Python 3",
      "language": "python"
    }
  },
  "cells": [
    {
      "cell_type": "code",
      "metadata": {
        "id": "YG4wqB4b6jvF"
      },
      "source": [
        "import numpy as np\n",
        "import pandas as pd\n"
      ],
      "execution_count": 1,
      "outputs": []
    },
    {
      "cell_type": "markdown",
      "metadata": {
        "id": "nWYwaZX_359T"
      },
      "source": [
        "# treliças"
      ]
    },
    {
      "cell_type": "markdown",
      "metadata": {
        "id": "fGK1WLz2mrt2"
      },
      "source": [
        "\n",
        "## Matriz de Rigidez **LOCAL**\n",
        "Input:\n",
        "\n",
        "* EA: rigidez, default é 1 \n",
        "*  l: comprimento da barra\n",
        "* teta_rad: Angulo da incidência em Radianos\n",
        "\n",
        "Return:\n",
        "*   k_local\n",
        "*   T\n",
        "\n",
        "\n",
        "\n",
        "\n",
        "\n"
      ]
    },
    {
      "cell_type": "code",
      "metadata": {
        "id": "q1uNg1X1rYUQ"
      },
      "source": [
        "def MATRIX_RIG_LOCAL (EA, l, teta_rad, GL, incidencia):\n",
        "\n",
        "  \n",
        "  Matrix_Rig_Template = np.array( [[1 ,0,-1,0],\n",
        "                                   [0 ,0, 0,0],\n",
        "                                   [-1,0, 1,0],\n",
        "                                   [0 ,0, 0,0]])\n",
        "  \n",
        "  T = np.array( [[np.cos(teta_rad) ,np.sin(teta_rad),0,0],\n",
        "                            [-np.sin(teta_rad) ,np.cos(teta_rad), 0,0],\n",
        "                            [0,0, np.cos(teta_rad),np.sin(teta_rad)],\n",
        "                            [0 ,0, -np.sin(teta_rad),np.cos(teta_rad)]])\n",
        "  \n",
        "  rows = 4\n",
        "  cols = GL\n",
        "  ones = [[incidencia[0]-1], [incidencia[1]-1], [incidencia[2]-1], [incidencia[3]-1]]\n",
        "\n",
        "  INC = [ [ 0 for i in range(cols) ] for j in range(rows) ]\n",
        "\n",
        "  for i,row in enumerate(ones):\n",
        "      for col in row:\n",
        "          INC[i][col] = 1\n",
        "  \n",
        "  \n",
        "  return Matrix_Rig_Template *(EA/l) , T, np.array(INC)"
      ],
      "execution_count": 2,
      "outputs": []
    },
    {
      "cell_type": "markdown",
      "metadata": {
        "id": "KLiQjvpzoixq"
      },
      "source": [
        "## Matriz de Rigidez **GLOBAL**\r\n",
        "Inputs:\r\n",
        "\r\n",
        "* k_local: Matriz de Rigidez Local\r\n",
        "* T: Matriz de Transposição\r\n",
        "\r\n",
        "Return: \r\n",
        "\r\n",
        "* K_GLobal: Matriz de Rigidez no sistema global"
      ]
    },
    {
      "cell_type": "code",
      "metadata": {
        "id": "nbMERMXtuwr6"
      },
      "source": [
        "def TRANS_LOCAL_GLOBAL (k_local, T):\n",
        "  '''\n",
        "  aqui entra a matriz de rigidez local\n",
        "  e sai a matriz de rigidez global\n",
        "  '''\n",
        "  return T.transpose() @ k_local @ T"
      ],
      "execution_count": 3,
      "outputs": []
    },
    {
      "cell_type": "code",
      "metadata": {
        "id": "0dEKvhMQmj6v"
      },
      "source": [
        "def INCIDENCIA (GL,incidencia):\r\n",
        "\r\n",
        "  rows = 4\r\n",
        "  cols = GL\r\n",
        "  ones = [[incidencia[0]-1], [incidencia[1]-1], [incidencia[2]-1], [incidencia[3]-1]]\r\n",
        "\r\n",
        "  INC = [ [ 0 for i in range(cols) ] for j in range(rows) ]\r\n",
        "\r\n",
        "  for i,row in enumerate(ones):\r\n",
        "      for col in row:\r\n",
        "          INC[i][col] = 1\r\n",
        "\r\n",
        "\r\n",
        "  return(np.array(INC))"
      ],
      "execution_count": 4,
      "outputs": []
    },
    {
      "cell_type": "code",
      "metadata": {
        "id": "QxS99FVSMClq"
      },
      "source": [
        "def ESPALHAMENTO(k_global, Incidencia):\r\n",
        "  return Incidencia.transpose() @ k_global  @ Incidencia"
      ],
      "execution_count": 5,
      "outputs": []
    },
    {
      "cell_type": "code",
      "metadata": {
        "id": "k668Z6lTsQ6X"
      },
      "source": [
        "barra1, T1, I1 = MATRIX_RIG_LOCAL(1,1,np.deg2rad(0), 8, [3,4,1,2])\r\n",
        "barra2, T2, I2 = MATRIX_RIG_LOCAL(1,1,np.deg2rad(60), 8, [5,6,1,2])\r\n",
        "barra3, T3, I3 = MATRIX_RIG_LOCAL(1,1,np.deg2rad(-60), 8, [3,4,5,6])\r\n",
        "barra4, T4, I4 = MATRIX_RIG_LOCAL(1,1,np.deg2rad(00), 8, [8,7,5,6])"
      ],
      "execution_count": 6,
      "outputs": []
    },
    {
      "cell_type": "code",
      "metadata": {
        "colab": {
          "base_uri": "https://localhost:8080/"
        },
        "id": "SiXhIDL5LK3L",
        "outputId": "e8bd47c6-28d3-4252-a254-d8501a5b764a"
      },
      "source": [
        "\r\n",
        "K_G_1 =TRANS_LOCAL_GLOBAL(barra1, T1)\r\n",
        "K_G_2 =TRANS_LOCAL_GLOBAL(barra2, T2)\r\n",
        "K_G_3 =TRANS_LOCAL_GLOBAL(barra3, T3)\r\n",
        "K_G_4 =TRANS_LOCAL_GLOBAL(barra4, T4)\r\n",
        "K_G_2.shape"
      ],
      "execution_count": 7,
      "outputs": [
        {
          "output_type": "execute_result",
          "data": {
            "text/plain": [
              "(4, 4)"
            ]
          },
          "metadata": {},
          "execution_count": 7
        }
      ]
    },
    {
      "cell_type": "code",
      "metadata": {
        "colab": {
          "base_uri": "https://localhost:8080/"
        },
        "id": "RnzVY_K8Mh6t",
        "outputId": "e6530cbb-e8de-4412-ac3e-040eec7a6ecf"
      },
      "source": [
        "K_1 = ESPALHAMENTO(K_G_1,I1)\r\n",
        "K_2 = ESPALHAMENTO(K_G_2,I2)\r\n",
        "K_3 = ESPALHAMENTO(K_G_3,I3)\r\n",
        "K_4 = ESPALHAMENTO(K_G_4,I4)\r\n",
        "K_1"
      ],
      "execution_count": 8,
      "outputs": [
        {
          "output_type": "execute_result",
          "data": {
            "text/plain": [
              "array([[ 1.,  0., -1.,  0.,  0.,  0.,  0.,  0.],\n",
              "       [ 0.,  0.,  0.,  0.,  0.,  0.,  0.,  0.],\n",
              "       [-1.,  0.,  1.,  0.,  0.,  0.,  0.,  0.],\n",
              "       [ 0.,  0.,  0.,  0.,  0.,  0.,  0.,  0.],\n",
              "       [ 0.,  0.,  0.,  0.,  0.,  0.,  0.,  0.],\n",
              "       [ 0.,  0.,  0.,  0.,  0.,  0.,  0.,  0.],\n",
              "       [ 0.,  0.,  0.,  0.,  0.,  0.,  0.,  0.],\n",
              "       [ 0.,  0.,  0.,  0.,  0.,  0.,  0.,  0.]])"
            ]
          },
          "metadata": {},
          "execution_count": 8
        }
      ]
    },
    {
      "cell_type": "code",
      "metadata": {
        "colab": {
          "base_uri": "https://localhost:8080/",
          "height": 297
        },
        "id": "rrgAYdg2M4W6",
        "outputId": "742b37a8-6e88-4945-9534-572952b3bb82"
      },
      "source": [
        "K = K_1 + K_2 + K_3 + K_4\r\n",
        "display(pd.DataFrame(K))"
      ],
      "execution_count": 9,
      "outputs": [
        {
          "output_type": "display_data",
          "data": {
            "text/plain": "          0         1         2         3         4         5    6    7\n0  1.250000  0.433013 -1.000000  0.000000 -0.250000 -0.433013  0.0  0.0\n1  0.433013  0.750000  0.000000  0.000000 -0.433013 -0.750000  0.0  0.0\n2 -1.000000  0.000000  1.250000 -0.433013 -0.250000  0.433013  0.0  0.0\n3  0.000000  0.000000 -0.433013  0.750000  0.433013 -0.750000  0.0  0.0\n4 -0.250000 -0.433013 -0.250000  0.433013  1.500000  0.000000  0.0 -1.0\n5 -0.433013 -0.750000  0.433013 -0.750000  0.000000  1.500000  0.0  0.0\n6  0.000000  0.000000  0.000000  0.000000  0.000000  0.000000  0.0  0.0\n7  0.000000  0.000000  0.000000  0.000000 -1.000000  0.000000  0.0  1.0",
            "text/html": "<div>\n<style scoped>\n    .dataframe tbody tr th:only-of-type {\n        vertical-align: middle;\n    }\n\n    .dataframe tbody tr th {\n        vertical-align: top;\n    }\n\n    .dataframe thead th {\n        text-align: right;\n    }\n</style>\n<table border=\"1\" class=\"dataframe\">\n  <thead>\n    <tr style=\"text-align: right;\">\n      <th></th>\n      <th>0</th>\n      <th>1</th>\n      <th>2</th>\n      <th>3</th>\n      <th>4</th>\n      <th>5</th>\n      <th>6</th>\n      <th>7</th>\n    </tr>\n  </thead>\n  <tbody>\n    <tr>\n      <th>0</th>\n      <td>1.250000</td>\n      <td>0.433013</td>\n      <td>-1.000000</td>\n      <td>0.000000</td>\n      <td>-0.250000</td>\n      <td>-0.433013</td>\n      <td>0.0</td>\n      <td>0.0</td>\n    </tr>\n    <tr>\n      <th>1</th>\n      <td>0.433013</td>\n      <td>0.750000</td>\n      <td>0.000000</td>\n      <td>0.000000</td>\n      <td>-0.433013</td>\n      <td>-0.750000</td>\n      <td>0.0</td>\n      <td>0.0</td>\n    </tr>\n    <tr>\n      <th>2</th>\n      <td>-1.000000</td>\n      <td>0.000000</td>\n      <td>1.250000</td>\n      <td>-0.433013</td>\n      <td>-0.250000</td>\n      <td>0.433013</td>\n      <td>0.0</td>\n      <td>0.0</td>\n    </tr>\n    <tr>\n      <th>3</th>\n      <td>0.000000</td>\n      <td>0.000000</td>\n      <td>-0.433013</td>\n      <td>0.750000</td>\n      <td>0.433013</td>\n      <td>-0.750000</td>\n      <td>0.0</td>\n      <td>0.0</td>\n    </tr>\n    <tr>\n      <th>4</th>\n      <td>-0.250000</td>\n      <td>-0.433013</td>\n      <td>-0.250000</td>\n      <td>0.433013</td>\n      <td>1.500000</td>\n      <td>0.000000</td>\n      <td>0.0</td>\n      <td>-1.0</td>\n    </tr>\n    <tr>\n      <th>5</th>\n      <td>-0.433013</td>\n      <td>-0.750000</td>\n      <td>0.433013</td>\n      <td>-0.750000</td>\n      <td>0.000000</td>\n      <td>1.500000</td>\n      <td>0.0</td>\n      <td>0.0</td>\n    </tr>\n    <tr>\n      <th>6</th>\n      <td>0.000000</td>\n      <td>0.000000</td>\n      <td>0.000000</td>\n      <td>0.000000</td>\n      <td>0.000000</td>\n      <td>0.000000</td>\n      <td>0.0</td>\n      <td>0.0</td>\n    </tr>\n    <tr>\n      <th>7</th>\n      <td>0.000000</td>\n      <td>0.000000</td>\n      <td>0.000000</td>\n      <td>0.000000</td>\n      <td>-1.000000</td>\n      <td>0.000000</td>\n      <td>0.0</td>\n      <td>1.0</td>\n    </tr>\n  </tbody>\n</table>\n</div>"
          },
          "metadata": {}
        }
      ]
    },
    {
      "cell_type": "markdown",
      "metadata": {
        "id": "8lulplLBLKqA"
      },
      "source": []
    },
    {
      "cell_type": "markdown",
      "metadata": {
        "id": "4pSGELpoC8OS"
      },
      "source": [
        "# Exercicio de aula\n"
      ]
    },
    {
      "cell_type": "code",
      "metadata": {
        "id": "7tWQ4Y5OAd1W"
      },
      "source": [
        "Fa = np.array( [[1],[0]])\n",
        "Kaa = np.array( [[12,2],\n",
        "                 [2,4]                 \n",
        "])\n",
        "\n",
        "Kab = np.array( [[-15360,11520,0,0],\n",
        "                 [11520,-8640,0,-40000],\n",
        "                 [0,0,-15360,-11520],\n",
        "                 [0,-40000,-11520,-8640]])\n",
        "\n",
        "\n",
        "\n",
        "Ub = np.array([[0.04],[0],[0],[0]])"
      ],
      "execution_count": 10,
      "outputs": []
    },
    {
      "cell_type": "code",
      "metadata": {
        "colab": {
          "base_uri": "https://localhost:8080/"
        },
        "id": "OUnUeizuAeA9",
        "outputId": "91ad6177-27ed-4caf-c370-f7de37afca58"
      },
      "source": [
        "Ua = np.linalg.inv(Kaa) @ (Fa)\n",
        "print(Ua)\n",
        "print(np.linalg.inv(Kaa))\n"
      ],
      "execution_count": 11,
      "outputs": [
        {
          "output_type": "stream",
          "name": "stdout",
          "text": [
            "[[ 0.09090909]\n [-0.04545455]]\n[[ 0.09090909 -0.04545455]\n [-0.04545455  0.27272727]]\n"
          ]
        }
      ]
    },
    {
      "cell_type": "code",
      "metadata": {
        "colab": {
          "base_uri": "https://localhost:8080/"
        },
        "id": "EP0fu3y5AeLk",
        "outputId": "59d8607d-2f5a-4c37-d3c1-f998899c59e8"
      },
      "source": [
        "U = np.concatenate((Ua,Ub), axis = 0)\n",
        "U"
      ],
      "execution_count": 12,
      "outputs": [
        {
          "output_type": "execute_result",
          "data": {
            "text/plain": [
              "array([[ 0.09090909],\n",
              "       [-0.04545455],\n",
              "       [ 0.04      ],\n",
              "       [ 0.        ],\n",
              "       [ 0.        ],\n",
              "       [ 0.        ]])"
            ]
          },
          "metadata": {},
          "execution_count": 12
        }
      ]
    },
    {
      "cell_type": "code",
      "metadata": {
        "colab": {
          "base_uri": "https://localhost:8080/"
        },
        "id": "fYOXxGSnAeUl",
        "outputId": "fb460e65-8b14-4d05-dd0b-36030099bf8c"
      },
      "source": [
        "barra6, T_6, INC_6 = MATRIX_RIG_LOCAL(120000, 5,-np.arctan(3/4), 8, [1,2,5,6])\n",
        "print(barra6)\n",
        "print(T_6)\n",
        "print(INC_6)\n",
        "\n",
        "print(barra6 @ T_6 @ INC_6 @ U)"
      ],
      "execution_count": 13,
      "outputs": [
        {
          "output_type": "stream",
          "name": "stdout",
          "text": [
            "[[ 24000.      0. -24000.      0.]\n [     0.      0.      0.      0.]\n [-24000.      0.  24000.      0.]\n [     0.      0.      0.      0.]]\n[[ 0.8 -0.6  0.   0. ]\n [ 0.6  0.8  0.   0. ]\n [ 0.   0.   0.8 -0.6]\n [ 0.   0.   0.6  0.8]]\n[[1 0 0 0 0 0 0 0]\n [0 1 0 0 0 0 0 0]\n [0 0 0 0 1 0 0 0]\n [0 0 0 0 0 1 0 0]]\n"
          ]
        },
        {
          "output_type": "error",
          "ename": "ValueError",
          "evalue": "matmul: Input operand 1 has a mismatch in its core dimension 0, with gufunc signature (n?,k),(k,m?)->(n?,m?) (size 6 is different from 8)",
          "traceback": [
            "\u001b[1;31m---------------------------------------------------------------------------\u001b[0m",
            "\u001b[1;31mValueError\u001b[0m                                Traceback (most recent call last)",
            "\u001b[1;32m<ipython-input-13-fd93d2f36083>\u001b[0m in \u001b[0;36m<module>\u001b[1;34m\u001b[0m\n\u001b[0;32m      4\u001b[0m \u001b[0mprint\u001b[0m\u001b[1;33m(\u001b[0m\u001b[0mINC_6\u001b[0m\u001b[1;33m)\u001b[0m\u001b[1;33m\u001b[0m\u001b[1;33m\u001b[0m\u001b[0m\n\u001b[0;32m      5\u001b[0m \u001b[1;33m\u001b[0m\u001b[0m\n\u001b[1;32m----> 6\u001b[1;33m \u001b[0mprint\u001b[0m\u001b[1;33m(\u001b[0m\u001b[0mbarra6\u001b[0m \u001b[1;33m@\u001b[0m \u001b[0mT_6\u001b[0m \u001b[1;33m@\u001b[0m \u001b[0mINC_6\u001b[0m \u001b[1;33m@\u001b[0m \u001b[0mU\u001b[0m\u001b[1;33m)\u001b[0m\u001b[1;33m\u001b[0m\u001b[1;33m\u001b[0m\u001b[0m\n\u001b[0m",
            "\u001b[1;31mValueError\u001b[0m: matmul: Input operand 1 has a mismatch in its core dimension 0, with gufunc signature (n?,k),(k,m?)->(n?,m?) (size 6 is different from 8)"
          ]
        }
      ]
    },
    {
      "cell_type": "code",
      "metadata": {
        "id": "F92TN4NtD9xa"
      },
      "source": [],
      "execution_count": null,
      "outputs": []
    },
    {
      "cell_type": "markdown",
      "metadata": {
        "id": "JJEQfYO4lXmF"
      },
      "source": [
        "# Porticos"
      ]
    },
    {
      "cell_type": "code",
      "metadata": {
        "id": "ij3xKUyslb7y"
      },
      "source": [
        "def MATRIX_RIG_LOCAL_p (EA_p, EI_p, l_p, teta_rad_p, GL_p, incidencia_p):\r\n",
        "\r\n",
        "  \r\n",
        "  Matrix_Rig_Template_p = np.array( [[(EA_p/l_p),0 ,0,(-(EA_p/l_p)),0,0],\r\n",
        "                                   [0 ,(12*EI_p/(l_p^3)), (6*EI_p/(l_p^2)),0,(-(12*EI_p/(l_p^3))),(6*EI_p/(l_p^2))],\r\n",
        "                                   [0,(6*EI_p/(l_p^2)), (4*EI_p/(l_p)),0,-(6*EI_p/(l_p^2)),(2*EI_p/(l_p))],\r\n",
        "                                   [-(EA_p/l_p),0 ,0,(EA_p/l_p),0,0],\r\n",
        "                                   [0 ,(-(12*EI_p/(l_p^3))), (-(6*EI_p/(l_p^2))),0,(12*EI_p/(l_p^3)),(-(6*EI_p/(l_p^2)))],\r\n",
        "                                   [0,(6*EI_p/(l_p^2)), (2*EI_p/(l_p)),0,(-(6*EI_p/(l_p^2))),(4*EI_p/(l_p))]\r\n",
        "                                   ])\r\n",
        "\r\n",
        "\r\n",
        "  T_p = np.array( [ [np.cos(teta_rad_p) ,np.sin(teta_rad_p),0,0,0,0],\r\n",
        "                    [-np.sin(teta_rad_p) ,np.cos(teta_rad_p), 0,0,0,0],\r\n",
        "                    [0,0,1,0,0,0],\r\n",
        "                    [0,0,0, np.cos(teta_rad_p) ,np.sin(teta_rad_p),0],\r\n",
        "                    [0,0,0,-np.sin(teta_rad_p) ,np.cos(teta_rad_p), 0],\r\n",
        "                    [0,0,0,0,0,1]])\r\n",
        "\r\n",
        "  rows = 6\r\n",
        "  cols = GL_p\r\n",
        "  ones = [[incidencia_p[0]-1], [incidencia_p[1]-1], [incidencia_p[2]-1], [incidencia_p[3]-1],[incidencia_p[4]-1],[incidencia_p[5]-1]]\r\n",
        "\r\n",
        "  INC_p = [ [ 0 for i in range(cols) ] for j in range(rows) ]\r\n",
        "\r\n",
        "  for i,row in enumerate(ones):\r\n",
        "      for col in row:\r\n",
        "          INC_p[i][col] = 1\r\n",
        "  \r\n",
        "  \r\n",
        "  return Matrix_Rig_Template_p, T_p, np.array(INC_p)\r\n",
        "\r\n",
        "\r\n",
        "def TRANS_LOCAL_GLOBAL_p (k_local_p, T_p):\r\n",
        "  '''\r\n",
        "  aqui entra a matriz de rigidez local\r\n",
        "  e sai a matriz de rigidez global\r\n",
        "  '''\r\n",
        "  return T_p.transpose() @ k_local_p @ T_p\r\n",
        "\r\n",
        "def ESPALHAMENTO(k_global_p, Incidencia_p):\r\n",
        "  return Incidencia_p.transpose() @ k_global_p  @ Incidencia_p\r\n",
        "  "
      ],
      "execution_count": null,
      "outputs": []
    },
    {
      "cell_type": "code",
      "metadata": {
        "colab": {
          "base_uri": "https://localhost:8080/",
          "height": 328
        },
        "id": "YF37jOGOuR5H",
        "outputId": "a4d9a0de-97f1-48a1-a760-fbb65181669a"
      },
      "source": [
        "barra1, T1, I1 = MATRIX_RIG_LOCAL_p((50000000*0.02),(50000000*0.0001), 1, np.deg2rad(np.arctan(4/3)), 9, [5,6,7,1,2,3])\r\n",
        "barra2, T2, I2 = MATRIX_RIG_LOCAL_p((50000000*0.02),(50000000*0.0001), 1, np.deg2rad(np.arctan(0)), 9, [1,2,3,4,8,9])\r\n",
        "\r\n",
        "Global_1 = TRANS_LOCAL_GLOBAL_p(barra1,T1)\r\n",
        "Global_2 = TRANS_LOCAL_GLOBAL_p(barra2,T2)\r\n",
        "\r\n",
        "k1 = ESPALHAMENTO (Global_1, I1)\r\n",
        "k2 = ESPALHAMENTO (Global_2, I2)\r\n",
        "\r\n",
        "k = k1  + k2\r\n",
        "\r\n",
        "display(pd.DataFrame(k))\r\n"
      ],
      "execution_count": null,
      "outputs": [
        {
          "output_type": "display_data",
          "data": {
            "text/html": [
              "<div>\n",
              "<style scoped>\n",
              "    .dataframe tbody tr th:only-of-type {\n",
              "        vertical-align: middle;\n",
              "    }\n",
              "\n",
              "    .dataframe tbody tr th {\n",
              "        vertical-align: top;\n",
              "    }\n",
              "\n",
              "    .dataframe thead th {\n",
              "        text-align: right;\n",
              "    }\n",
              "</style>\n",
              "<table border=\"1\" class=\"dataframe\">\n",
              "  <thead>\n",
              "    <tr style=\"text-align: right;\">\n",
              "      <th></th>\n",
              "      <th>0</th>\n",
              "      <th>1</th>\n",
              "      <th>2</th>\n",
              "      <th>3</th>\n",
              "      <th>4</th>\n",
              "      <th>5</th>\n",
              "      <th>6</th>\n",
              "      <th>7</th>\n",
              "      <th>8</th>\n",
              "    </tr>\n",
              "  </thead>\n",
              "  <tbody>\n",
              "    <tr>\n",
              "      <th>0</th>\n",
              "      <td>1.999746e+06</td>\n",
              "      <td>15696.082831</td>\n",
              "      <td>161.836482</td>\n",
              "      <td>-1000000.0</td>\n",
              "      <td>-999745.946846</td>\n",
              "      <td>-15696.082831</td>\n",
              "      <td>161.836482</td>\n",
              "      <td>0.0</td>\n",
              "      <td>0.0</td>\n",
              "    </tr>\n",
              "    <tr>\n",
              "      <th>1</th>\n",
              "      <td>1.569608e+04</td>\n",
              "      <td>60254.053154</td>\n",
              "      <td>1.309638</td>\n",
              "      <td>0.0</td>\n",
              "      <td>-15696.082831</td>\n",
              "      <td>-30254.053154</td>\n",
              "      <td>-9998.690362</td>\n",
              "      <td>-30000.0</td>\n",
              "      <td>10000.0</td>\n",
              "    </tr>\n",
              "    <tr>\n",
              "      <th>2</th>\n",
              "      <td>1.618365e+02</td>\n",
              "      <td>1.309638</td>\n",
              "      <td>40000.000000</td>\n",
              "      <td>0.0</td>\n",
              "      <td>-161.836482</td>\n",
              "      <td>9998.690362</td>\n",
              "      <td>10000.000000</td>\n",
              "      <td>-10000.0</td>\n",
              "      <td>10000.0</td>\n",
              "    </tr>\n",
              "    <tr>\n",
              "      <th>3</th>\n",
              "      <td>-1.000000e+06</td>\n",
              "      <td>0.000000</td>\n",
              "      <td>0.000000</td>\n",
              "      <td>1000000.0</td>\n",
              "      <td>0.000000</td>\n",
              "      <td>0.000000</td>\n",
              "      <td>0.000000</td>\n",
              "      <td>0.0</td>\n",
              "      <td>0.0</td>\n",
              "    </tr>\n",
              "    <tr>\n",
              "      <th>4</th>\n",
              "      <td>-9.997459e+05</td>\n",
              "      <td>-15696.082831</td>\n",
              "      <td>-161.836482</td>\n",
              "      <td>0.0</td>\n",
              "      <td>999745.946846</td>\n",
              "      <td>15696.082831</td>\n",
              "      <td>-161.836482</td>\n",
              "      <td>0.0</td>\n",
              "      <td>0.0</td>\n",
              "    </tr>\n",
              "    <tr>\n",
              "      <th>5</th>\n",
              "      <td>-1.569608e+04</td>\n",
              "      <td>-30254.053154</td>\n",
              "      <td>9998.690362</td>\n",
              "      <td>0.0</td>\n",
              "      <td>15696.082831</td>\n",
              "      <td>30254.053154</td>\n",
              "      <td>9998.690362</td>\n",
              "      <td>0.0</td>\n",
              "      <td>0.0</td>\n",
              "    </tr>\n",
              "    <tr>\n",
              "      <th>6</th>\n",
              "      <td>1.618365e+02</td>\n",
              "      <td>-9998.690362</td>\n",
              "      <td>10000.000000</td>\n",
              "      <td>0.0</td>\n",
              "      <td>-161.836482</td>\n",
              "      <td>9998.690362</td>\n",
              "      <td>20000.000000</td>\n",
              "      <td>0.0</td>\n",
              "      <td>0.0</td>\n",
              "    </tr>\n",
              "    <tr>\n",
              "      <th>7</th>\n",
              "      <td>0.000000e+00</td>\n",
              "      <td>-30000.000000</td>\n",
              "      <td>-10000.000000</td>\n",
              "      <td>0.0</td>\n",
              "      <td>0.000000</td>\n",
              "      <td>0.000000</td>\n",
              "      <td>0.000000</td>\n",
              "      <td>30000.0</td>\n",
              "      <td>-10000.0</td>\n",
              "    </tr>\n",
              "    <tr>\n",
              "      <th>8</th>\n",
              "      <td>0.000000e+00</td>\n",
              "      <td>10000.000000</td>\n",
              "      <td>10000.000000</td>\n",
              "      <td>0.0</td>\n",
              "      <td>0.000000</td>\n",
              "      <td>0.000000</td>\n",
              "      <td>0.000000</td>\n",
              "      <td>-10000.0</td>\n",
              "      <td>20000.0</td>\n",
              "    </tr>\n",
              "  </tbody>\n",
              "</table>\n",
              "</div>"
            ],
            "text/plain": [
              "              0             1             2  ...             6        7        8\n",
              "0  1.999746e+06  15696.082831    161.836482  ...    161.836482      0.0      0.0\n",
              "1  1.569608e+04  60254.053154      1.309638  ...  -9998.690362 -30000.0  10000.0\n",
              "2  1.618365e+02      1.309638  40000.000000  ...  10000.000000 -10000.0  10000.0\n",
              "3 -1.000000e+06      0.000000      0.000000  ...      0.000000      0.0      0.0\n",
              "4 -9.997459e+05 -15696.082831   -161.836482  ...   -161.836482      0.0      0.0\n",
              "5 -1.569608e+04 -30254.053154   9998.690362  ...   9998.690362      0.0      0.0\n",
              "6  1.618365e+02  -9998.690362  10000.000000  ...  20000.000000      0.0      0.0\n",
              "7  0.000000e+00 -30000.000000 -10000.000000  ...      0.000000  30000.0 -10000.0\n",
              "8  0.000000e+00  10000.000000  10000.000000  ...      0.000000 -10000.0  20000.0\n",
              "\n",
              "[9 rows x 9 columns]"
            ]
          },
          "metadata": {
            "tags": []
          }
        }
      ]
    },
    {
      "cell_type": "code",
      "metadata": {
        "colab": {
          "base_uri": "https://localhost:8080/",
          "height": 235
        },
        "id": "XAcRGMHKsa_w",
        "outputId": "766ddb54-9e83-46e7-c472-fe5b6ca484fc"
      },
      "source": [],
      "execution_count": null,
      "outputs": [
        {
          "output_type": "display_data",
          "data": {
            "text/html": [
              "<div>\n",
              "<style scoped>\n",
              "    .dataframe tbody tr th:only-of-type {\n",
              "        vertical-align: middle;\n",
              "    }\n",
              "\n",
              "    .dataframe tbody tr th {\n",
              "        vertical-align: top;\n",
              "    }\n",
              "\n",
              "    .dataframe thead th {\n",
              "        text-align: right;\n",
              "    }\n",
              "</style>\n",
              "<table border=\"1\" class=\"dataframe\">\n",
              "  <thead>\n",
              "    <tr style=\"text-align: right;\">\n",
              "      <th></th>\n",
              "      <th>0</th>\n",
              "      <th>1</th>\n",
              "      <th>2</th>\n",
              "      <th>3</th>\n",
              "      <th>4</th>\n",
              "      <th>5</th>\n",
              "    </tr>\n",
              "  </thead>\n",
              "  <tbody>\n",
              "    <tr>\n",
              "      <th>0</th>\n",
              "      <td>10000.0</td>\n",
              "      <td>0.0</td>\n",
              "      <td>0.0</td>\n",
              "      <td>-10000.0</td>\n",
              "      <td>0.0</td>\n",
              "      <td>0.0</td>\n",
              "    </tr>\n",
              "    <tr>\n",
              "      <th>1</th>\n",
              "      <td>0.0</td>\n",
              "      <td>300.0</td>\n",
              "      <td>100.0</td>\n",
              "      <td>0.0</td>\n",
              "      <td>-300.0</td>\n",
              "      <td>100.0</td>\n",
              "    </tr>\n",
              "    <tr>\n",
              "      <th>2</th>\n",
              "      <td>0.0</td>\n",
              "      <td>100.0</td>\n",
              "      <td>200.0</td>\n",
              "      <td>0.0</td>\n",
              "      <td>-100.0</td>\n",
              "      <td>100.0</td>\n",
              "    </tr>\n",
              "    <tr>\n",
              "      <th>3</th>\n",
              "      <td>-10000.0</td>\n",
              "      <td>0.0</td>\n",
              "      <td>0.0</td>\n",
              "      <td>10000.0</td>\n",
              "      <td>0.0</td>\n",
              "      <td>0.0</td>\n",
              "    </tr>\n",
              "    <tr>\n",
              "      <th>4</th>\n",
              "      <td>0.0</td>\n",
              "      <td>-300.0</td>\n",
              "      <td>-100.0</td>\n",
              "      <td>0.0</td>\n",
              "      <td>300.0</td>\n",
              "      <td>-100.0</td>\n",
              "    </tr>\n",
              "    <tr>\n",
              "      <th>5</th>\n",
              "      <td>0.0</td>\n",
              "      <td>100.0</td>\n",
              "      <td>100.0</td>\n",
              "      <td>0.0</td>\n",
              "      <td>-100.0</td>\n",
              "      <td>200.0</td>\n",
              "    </tr>\n",
              "  </tbody>\n",
              "</table>\n",
              "</div>"
            ],
            "text/plain": [
              "         0      1      2        3      4      5\n",
              "0  10000.0    0.0    0.0 -10000.0    0.0    0.0\n",
              "1      0.0  300.0  100.0      0.0 -300.0  100.0\n",
              "2      0.0  100.0  200.0      0.0 -100.0  100.0\n",
              "3 -10000.0    0.0    0.0  10000.0    0.0    0.0\n",
              "4      0.0 -300.0 -100.0      0.0  300.0 -100.0\n",
              "5      0.0  100.0  100.0      0.0 -100.0  200.0"
            ]
          },
          "metadata": {
            "tags": []
          }
        }
      ]
    },
    {
      "cell_type": "markdown",
      "metadata": {
        "id": "Tw10JPvHsazk"
      },
      "source": []
    },
    {
      "cell_type": "code",
      "execution_count": 32,
      "metadata": {},
      "outputs": [],
      "source": [
        "import numpy as np\n",
        "import pandas as pd\n",
        "\n",
        "\n",
        "class Stiffness_Matrix():\n",
        "    \"\"\"\n",
        "\n",
        "    \"\"\"\n",
        "\n",
        "    def __init__(self, length, orientation_degrees , incidence_list, EA = 0, EI = 0):\n",
        "        self.l =  length\n",
        "        self.orientation = orientation_degrees\n",
        "        self.incidence = incidence_list\n",
        "\n",
        "\n"
      ]
    },
    {
      "cell_type": "code",
      "execution_count": 58,
      "metadata": {},
      "outputs": [],
      "source": [
        "\n",
        "class Portico(Stiffness_Matrix):\n",
        "    \"\"\"\n",
        "    \"\"\"\n",
        "    def __init__(self, length, orientation_degrees , incidence_list, EA = 1, EI = 1, Deg_freedom = 6):\n",
        "        # list of attributes\n",
        "        Stiffness_Matrix.__init__(self, length, orientation_degrees , incidence_list, EA, EI)\n",
        "        self.EA = EA\n",
        "        self.EI = EI\n",
        "        self.DF = Deg_freedom\n",
        "        self.orientation = orientation_degrees\n",
        "        self.Stiff_M = np.array( [[(EA/length),0 ,0,(-(EA/length)),0,0],\n",
        "                                   [0 ,(12*EI/(length^3)), (6*EI/(length^2)),0,(-(12*EI/(length^3))),(6*EI/(length^2))],\n",
        "                                   [0,(6*EI/(length^2)), (4*EI/(length)),0,-(6*EI/(length^2)),(2*EI/(length))],\n",
        "                                   [-(EA/length),0 ,0,(EA/length),0,0],\n",
        "                                   [0 ,(-(12*EI/(length^3))), (-(6*EI/(length^2))),0,(12*EI/(length^3)),(-(6*EI/(length^2)))],\n",
        "                                   [0,(6*EI/(length^2)), (2*EI/(length)),0,(-(6*EI/(length^2))),(4*EI/(length))]\n",
        "                                   ])\n",
        "\n",
        "        self.local2global_T_M = np.array( \n",
        "                    [ [np.cos(np.deg2rad(orientation_degrees)) ,np.sin(np.deg2rad(orientation_degrees)),0,0,0,0],\n",
        "                    [-np.sin(np.deg2rad(orientation_degrees)) ,np.cos(np.deg2rad(orientation_degrees)), 0,0,0,0],\n",
        "                    [0,0,1,0,0,0],\n",
        "                    [0,0,0, np.cos(np.deg2rad(orientation_degrees)) ,np.sin(np.deg2rad(orientation_degrees)),0],\n",
        "                    [0,0,0,-np.sin(np.deg2rad(orientation_degrees)) ,np.cos(np.deg2rad(orientation_degrees)), 0],\n",
        "                    [0,0,0,0,0,1] ]\n",
        "                    )\n",
        "        \n",
        "        rows = 6\n",
        "        cols = Deg_freedom\n",
        "        ones = [[incidence_list[0]-1], [incidence_list[1]-1], [incidence_list[2]-1], [incidence_list[3]-1],[incidence_list[4]-1],[incidence_list[5]-1]]\n",
        "\n",
        "        INC = [ [ 0 for i in range(cols) ] for j in range(rows) ]\n",
        "\n",
        "        for i,row in enumerate(ones):\n",
        "            for col in row:\n",
        "                INC[i][col] = 1\n",
        "        self.Incidency_M = np.array(INC)\n",
        "\n",
        "        self.Stiff_M_Global = self.local2global_T_M.transpose() * self.Stiff_M * self.local2global_T_M\n",
        "        self.Stiff_M_Global_\n",
        "\n",
        "        # Incidencia.transpose() @ k_global  @ Incidencia\n",
        "    # methods\n",
        "\n",
        "    def updade_EA(self, new_EA):\n",
        "        self.EA =  new_EA\n",
        "\n",
        "    def updade_EI(self, new_EI):\n",
        "        self.EI =  new_EI\n",
        "\n",
        "\n",
        "class Truss(Stiffness_Matrix):\n",
        "    \"\"\"\n",
        "    \"\"\"\n",
        "    def __init__(self, length, orientation_degrees , incidence_list, EA = 1, Deg_freedom = 4):\n",
        "\n",
        "        # list of attributes\n",
        "        Stiffness_Matrix.__init__(self, length, orientation_degrees , incidence_list, EA)\n",
        "        self.EA = EA\n",
        "        self.DF = Deg_freedom\n",
        "        self.orientation = orientation_degrees\n",
        "        self.Stiff_M = np.array( [[1 ,0,-1,0],\n",
        "                                   [0 ,0, 0,0],\n",
        "                                   [-1,0, 1,0],\n",
        "                                   [0 ,0, 0,0]] ) * (EA/length)\n",
        "        self.local2global_T_M = np.array( [[np.cos(np.deg2rad(orientation_degrees)) ,np.sin(np.deg2rad(orientation_degrees)),0,0],\n",
        "                            [-np.sin(np.deg2rad(orientation_degrees)) ,np.cos(np.deg2rad(orientation_degrees)), 0,0],\n",
        "                            [0,0, np.cos(np.deg2rad(orientation_degrees)),np.sin(np.deg2rad(orientation_degrees))],\n",
        "                            [0,0, -np.sin(np.deg2rad(orientation_degrees)),np.cos(np.deg2rad(orientation_degrees))]])\n",
        "    \n",
        "\n",
        "        rows = 4\n",
        "        cols = Deg_freedom\n",
        "        ones = [[incidence_list[0]-1], [incidence_list[1]-1], [incidence_list[2]-1], [incidence_list[3]-1]]\n",
        "\n",
        "        INC = [ [ 0 for i in range(cols) ] for j in range(rows) ]\n",
        "\n",
        "        for i,row in enumerate(ones):\n",
        "            for col in row:\n",
        "                INC[i][col] = 1\n",
        "        self.Incidency_M = np.array(INC)\n",
        "        self.Stiff_M_Global = self.local2global_T_M.transpose() * self.Stiff_M * self.local2global_T_M\n",
        "\n",
        "    def updade_EA(self, new_EA):\n",
        "        self.EA = new_EA"
      ]
    },
    {
      "cell_type": "code",
      "execution_count": 66,
      "metadata": {},
      "outputs": [
        {
          "output_type": "execute_result",
          "data": {
            "text/plain": [
              "array([[7.49879891e-34, 1.22464680e-17, 0.00000000e+00, 0.00000000e+00],\n",
              "       [0.00000000e+00, 0.00000000e+00, 0.00000000e+00, 0.00000000e+00],\n",
              "       [0.00000000e+00, 0.00000000e+00, 7.49879891e-34, 1.22464680e-17],\n",
              "       [0.00000000e+00, 0.00000000e+00, 0.00000000e+00, 0.00000000e+00]])"
            ]
          },
          "metadata": {},
          "execution_count": 66
        }
      ],
      "source": [
        "p1 = Truss(5,90,[1,2,3,4])\n",
        "\n",
        "\n",
        "matrix_rig_local = p1.Stiff_M\n",
        "matrix_transf = p1.local2global_T_M\n",
        "matrix_rig_global = matrix_transf.transpose() *  matrix_rig_local @ matrix_transf\n",
        "matrix_rig_global"
      ]
    }
  ]
}